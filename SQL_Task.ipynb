{
 "cells": [
  {
   "cell_type": "markdown",
   "id": "99142e79",
   "metadata": {},
   "source": [
    "# SQL Challenge"
   ]
  },
  {
   "cell_type": "markdown",
   "id": "6600dc65",
   "metadata": {},
   "source": [
    "I decided to tackle this challenge using the Jupyter magics with SQL"
   ]
  },
  {
   "cell_type": "markdown",
   "id": "e626450e",
   "metadata": {},
   "source": [
    "### Importing the necessary python packages"
   ]
  },
  {
   "cell_type": "code",
   "execution_count": 1,
   "id": "398265d6",
   "metadata": {},
   "outputs": [],
   "source": [
    "import csv\n",
    "import sqlite3\n",
    "import sqlalchemy\n",
    "import pandas as pd"
   ]
  },
  {
   "cell_type": "markdown",
   "id": "5f0ecca8",
   "metadata": {},
   "source": [
    "#### Let's first load the SQL extension and establish a connection with the database"
   ]
  },
  {
   "cell_type": "code",
   "execution_count": 2,
   "id": "04bda7b2",
   "metadata": {},
   "outputs": [],
   "source": [
    "%load_ext sql"
   ]
  },
  {
   "cell_type": "code",
   "execution_count": 3,
   "id": "6ef28e22",
   "metadata": {},
   "outputs": [
    {
     "data": {
      "text/plain": [
       "'Connected: @my_data1.db'"
      ]
     },
     "execution_count": 3,
     "metadata": {},
     "output_type": "execute_result"
    }
   ],
   "source": [
    "con = sqlite3.connect(\"my_data1.db\")\n",
    "cur = con.cursor()\n",
    "%sql sqlite:///my_data1.db"
   ]
  },
  {
   "cell_type": "markdown",
   "id": "d9aced56",
   "metadata": {},
   "source": [
    "#### Next we can load the data and insert into the database using pandas\n",
    "\n",
    "Also let's convert the date times to just dates using pandas already"
   ]
  },
  {
   "cell_type": "code",
   "execution_count": 4,
   "id": "644f67c9",
   "metadata": {},
   "outputs": [],
   "source": [
    "df = pd.read_csv(\"Challenge_Files/EKKO.csv\")\n",
    "df['AEDAT'] = pd.to_datetime(df['AEDAT']).dt.date\n",
    "df.to_sql(\"EKKO\", con, if_exists='replace', index=False, method=\"multi\")\n",
    "\n",
    "df = pd.read_csv(\"Challenge_Files/EKPO.csv\")\n",
    "df.to_sql(\"EKPO\", con, if_exists='replace', index=False, method=\"multi\")\n",
    "\n",
    "df = pd.read_csv(\"Challenge_Files/CDHDR.csv\")\n",
    "df['UDATE'] = pd.to_datetime(df['UDATE']).dt.date\n",
    "df.to_sql(\"CDHDR\", con, if_exists='replace', index=False, method=\"multi\")\n",
    "\n",
    "df = pd.read_csv(\"Challenge_Files/CDPOS.csv\")\n",
    "df['UDATE'] = pd.to_datetime(df['UDATE']).dt.date\n",
    "df.to_sql(\"CDPOS\", con, if_exists='replace', index=False, method=\"multi\")\n"
   ]
  },
  {
   "cell_type": "markdown",
   "id": "1d244b66",
   "metadata": {},
   "source": [
    "Now with Jupyter SQL magics we can query the databases with SQL commands"
   ]
  },
  {
   "cell_type": "code",
   "execution_count": 5,
   "id": "0f3b2610",
   "metadata": {},
   "outputs": [
    {
     "name": "stdout",
     "output_type": "stream",
     "text": [
      " * sqlite:///my_data1.db\n",
      "Done.\n"
     ]
    },
    {
     "data": {
      "text/html": [
       "<table>\n",
       "    <thead>\n",
       "        <tr>\n",
       "            <th>MANDT</th>\n",
       "            <th>EBELN</th>\n",
       "            <th>LIFNR</th>\n",
       "            <th>BUKRS</th>\n",
       "            <th>BSTYP</th>\n",
       "            <th>BSART</th>\n",
       "            <th>LOEKZ</th>\n",
       "            <th>STATU</th>\n",
       "            <th>AEDAT</th>\n",
       "        </tr>\n",
       "    </thead>\n",
       "    <tbody>\n",
       "        <tr>\n",
       "            <td>10</td>\n",
       "            <td>71160672</td>\n",
       "            <td>65661</td>\n",
       "            <td>15</td>\n",
       "            <td>F</td>\n",
       "            <td>NB</td>\n",
       "            <td>None</td>\n",
       "            <td>9.0</td>\n",
       "            <td>2020-01-29</td>\n",
       "        </tr>\n",
       "        <tr>\n",
       "            <td>10</td>\n",
       "            <td>71161696</td>\n",
       "            <td>66597</td>\n",
       "            <td>10</td>\n",
       "            <td>F</td>\n",
       "            <td>NB</td>\n",
       "            <td>None</td>\n",
       "            <td>9.0</td>\n",
       "            <td>2020-05-11</td>\n",
       "        </tr>\n",
       "        <tr>\n",
       "            <td>10</td>\n",
       "            <td>71160694</td>\n",
       "            <td>5122</td>\n",
       "            <td>10</td>\n",
       "            <td>F</td>\n",
       "            <td>NB</td>\n",
       "            <td>None</td>\n",
       "            <td>9.0</td>\n",
       "            <td>2020-01-31</td>\n",
       "        </tr>\n",
       "        <tr>\n",
       "            <td>10</td>\n",
       "            <td>71160997</td>\n",
       "            <td>62299</td>\n",
       "            <td>15</td>\n",
       "            <td>F</td>\n",
       "            <td>NB</td>\n",
       "            <td>None</td>\n",
       "            <td>9.0</td>\n",
       "            <td>2020-03-16</td>\n",
       "        </tr>\n",
       "        <tr>\n",
       "            <td>10</td>\n",
       "            <td>71161765</td>\n",
       "            <td>56690</td>\n",
       "            <td>10</td>\n",
       "            <td>F</td>\n",
       "            <td>NB</td>\n",
       "            <td>None</td>\n",
       "            <td>9.0</td>\n",
       "            <td>2020-07-13</td>\n",
       "        </tr>\n",
       "    </tbody>\n",
       "</table>"
      ],
      "text/plain": [
       "[(10, 71160672, 65661, 15, 'F', 'NB', None, 9.0, '2020-01-29'),\n",
       " (10, 71161696, 66597, 10, 'F', 'NB', None, 9.0, '2020-05-11'),\n",
       " (10, 71160694, 5122, 10, 'F', 'NB', None, 9.0, '2020-01-31'),\n",
       " (10, 71160997, 62299, 15, 'F', 'NB', None, 9.0, '2020-03-16'),\n",
       " (10, 71161765, 56690, 10, 'F', 'NB', None, 9.0, '2020-07-13')]"
      ]
     },
     "execution_count": 5,
     "metadata": {},
     "output_type": "execute_result"
    }
   ],
   "source": [
    "%sql SELECT * from EKKO limit 5"
   ]
  },
  {
   "cell_type": "code",
   "execution_count": 6,
   "id": "f59cf7b0",
   "metadata": {},
   "outputs": [
    {
     "name": "stdout",
     "output_type": "stream",
     "text": [
      " * sqlite:///my_data1.db\n",
      "Done.\n"
     ]
    },
    {
     "data": {
      "text/html": [
       "<table>\n",
       "    <thead>\n",
       "        <tr>\n",
       "            <th>MANDANT</th>\n",
       "            <th>OBJECTCLAS</th>\n",
       "            <th>OBJECTID</th>\n",
       "            <th>CHANGENR</th>\n",
       "            <th>TABNAME</th>\n",
       "            <th>TABKEY</th>\n",
       "            <th>FNAME</th>\n",
       "            <th>CHNGIND</th>\n",
       "            <th>VALUE_NEW</th>\n",
       "            <th>VALUE_OLD</th>\n",
       "            <th>UDATE</th>\n",
       "            <th>UTIME</th>\n",
       "        </tr>\n",
       "    </thead>\n",
       "    <tbody>\n",
       "        <tr>\n",
       "            <td>10</td>\n",
       "            <td>EINKBELEG</td>\n",
       "            <td>4700001106</td>\n",
       "            <td>51867463</td>\n",
       "            <td>EKPO</td>\n",
       "            <td>10470000110600030</td>\n",
       "            <td>NETPR</td>\n",
       "            <td>U</td>\n",
       "            <td>&nbsp;&nbsp;&nbsp;&nbsp;25000.00</td>\n",
       "            <td>&nbsp;&nbsp;&nbsp;&nbsp;15000.00</td>\n",
       "            <td>2018-01-08</td>\n",
       "            <td>1970-01-01T15:54:10</td>\n",
       "        </tr>\n",
       "        <tr>\n",
       "            <td>10</td>\n",
       "            <td>EINKBELEG</td>\n",
       "            <td>4700001106</td>\n",
       "            <td>51867463</td>\n",
       "            <td>EKPO</td>\n",
       "            <td>10470000110600030</td>\n",
       "            <td>NETWR</td>\n",
       "            <td>U</td>\n",
       "            <td>&nbsp;&nbsp;&nbsp;&nbsp;&nbsp;&nbsp;25000.00</td>\n",
       "            <td>&nbsp;&nbsp;&nbsp;&nbsp;&nbsp;&nbsp;15000.00</td>\n",
       "            <td>2018-01-08</td>\n",
       "            <td>1970-01-01T15:54:10</td>\n",
       "        </tr>\n",
       "        <tr>\n",
       "            <td>10</td>\n",
       "            <td>EINKBELEG</td>\n",
       "            <td>4700001106</td>\n",
       "            <td>51873447</td>\n",
       "            <td>EKPO</td>\n",
       "            <td>10470000110600030</td>\n",
       "            <td>NETPR</td>\n",
       "            <td>U</td>\n",
       "            <td>&nbsp;&nbsp;&nbsp;&nbsp;50000.00</td>\n",
       "            <td>&nbsp;&nbsp;&nbsp;&nbsp;25000.00</td>\n",
       "            <td>2018-01-09</td>\n",
       "            <td>1970-01-01T08:22:23</td>\n",
       "        </tr>\n",
       "        <tr>\n",
       "            <td>10</td>\n",
       "            <td>EINKBELEG</td>\n",
       "            <td>4700001106</td>\n",
       "            <td>51873447</td>\n",
       "            <td>EKPO</td>\n",
       "            <td>10470000110600030</td>\n",
       "            <td>NETWR</td>\n",
       "            <td>U</td>\n",
       "            <td>&nbsp;&nbsp;&nbsp;&nbsp;&nbsp;&nbsp;50000.00</td>\n",
       "            <td>&nbsp;&nbsp;&nbsp;&nbsp;&nbsp;&nbsp;25000.00</td>\n",
       "            <td>2018-01-09</td>\n",
       "            <td>1970-01-01T08:22:23</td>\n",
       "        </tr>\n",
       "        <tr>\n",
       "            <td>10</td>\n",
       "            <td>EINKBELEG</td>\n",
       "            <td>4700001106</td>\n",
       "            <td>51874715</td>\n",
       "            <td>EKPO</td>\n",
       "            <td>10470000110600030</td>\n",
       "            <td>NETPR</td>\n",
       "            <td>U</td>\n",
       "            <td>&nbsp;&nbsp;&nbsp;&nbsp;25000.00</td>\n",
       "            <td>&nbsp;&nbsp;&nbsp;&nbsp;50000.00</td>\n",
       "            <td>2018-01-09</td>\n",
       "            <td>1970-01-01T09:24:08</td>\n",
       "        </tr>\n",
       "    </tbody>\n",
       "</table>"
      ],
      "text/plain": [
       "[(10, 'EINKBELEG', 4700001106, 51867463, 'EKPO', 10470000110600030, 'NETPR', 'U', '    25000.00', '    15000.00', '2018-01-08', '1970-01-01T15:54:10'),\n",
       " (10, 'EINKBELEG', 4700001106, 51867463, 'EKPO', 10470000110600030, 'NETWR', 'U', '      25000.00', '      15000.00', '2018-01-08', '1970-01-01T15:54:10'),\n",
       " (10, 'EINKBELEG', 4700001106, 51873447, 'EKPO', 10470000110600030, 'NETPR', 'U', '    50000.00', '    25000.00', '2018-01-09', '1970-01-01T08:22:23'),\n",
       " (10, 'EINKBELEG', 4700001106, 51873447, 'EKPO', 10470000110600030, 'NETWR', 'U', '      50000.00', '      25000.00', '2018-01-09', '1970-01-01T08:22:23'),\n",
       " (10, 'EINKBELEG', 4700001106, 51874715, 'EKPO', 10470000110600030, 'NETPR', 'U', '    25000.00', '    50000.00', '2018-01-09', '1970-01-01T09:24:08')]"
      ]
     },
     "execution_count": 6,
     "metadata": {},
     "output_type": "execute_result"
    }
   ],
   "source": [
    "%sql SELECT * from CDPOS limit 5"
   ]
  },
  {
   "cell_type": "markdown",
   "id": "921110c2",
   "metadata": {},
   "source": [
    "### Input parameters\n",
    "\n",
    "User provided input parameters: MANDT, EBELN and D_DATE. We can either prompt for these parameters, or for the purposes of this task just set them manually"
   ]
  },
  {
   "cell_type": "code",
   "execution_count": 7,
   "id": "2e90a832",
   "metadata": {},
   "outputs": [],
   "source": [
    "#MANDT = input(\"Enter MANDT: \")\n",
    "#EBELN = input(\"Enter EBELN: \")\n",
    "#D_DATE = input(\"Enter D_DATE (YYYY-MM-DD): \")\n",
    "\n",
    "MANDT = \"010\"\n",
    "EBELN = \"0076052494\"\n",
    "D_DATE = \"2018-02-25\""
   ]
  },
  {
   "cell_type": "markdown",
   "id": "2fa8bc01",
   "metadata": {},
   "source": [
    "## Query to get the total net worth with the input parameters"
   ]
  },
  {
   "cell_type": "markdown",
   "id": "ca1b472b",
   "metadata": {},
   "source": [
    "The two tabels EKKO and EKPO are joined together based on the MANDT and EBELN values. Then we calculate the current total net order value by taking the sum of all net oder values with the user defined MANDT and EBELN values up to the date provided also by the user."
   ]
  },
  {
   "cell_type": "code",
   "execution_count": 8,
   "id": "99db3e00",
   "metadata": {},
   "outputs": [
    {
     "name": "stdout",
     "output_type": "stream",
     "text": [
      " * sqlite:///my_data1.db\n",
      "Done.\n"
     ]
    },
    {
     "data": {
      "text/html": [
       "<table>\n",
       "    <thead>\n",
       "        <tr>\n",
       "            <th>TOTAL_NETWR</th>\n",
       "        </tr>\n",
       "    </thead>\n",
       "    <tbody>\n",
       "        <tr>\n",
       "            <td>950.0</td>\n",
       "        </tr>\n",
       "    </tbody>\n",
       "</table>"
      ],
      "text/plain": [
       "[(950.0,)]"
      ]
     },
     "execution_count": 8,
     "metadata": {},
     "output_type": "execute_result"
    }
   ],
   "source": [
    "%sql select SUM(NETWR) as TOTAL_NETWR \\\n",
    "from EKPO join EKKO on EKPO.MANDT = EKKO.MANDT and EKPO.EBELN = EKKO.EBELN \\\n",
    "where EKKO.MANDT = :MANDT and EKKO.EBELN = :EBELN and EKKO.AEDAT <= :D_DATE"
   ]
  },
  {
   "cell_type": "markdown",
   "id": "35270081",
   "metadata": {},
   "source": [
    "The price of the item ordered might have changed and we want the latest value up to the date provided by the user. So we need to check the database with the price changes recorded and take the old networth with the correct MANDT and EBELN values, and the date after the order date and up to the user provided date. "
   ]
  },
  {
   "cell_type": "code",
   "execution_count": 9,
   "id": "7dcdd464",
   "metadata": {},
   "outputs": [
    {
     "name": "stdout",
     "output_type": "stream",
     "text": [
      " * sqlite:///my_data1.db\n",
      "Done.\n"
     ]
    },
    {
     "data": {
      "text/html": [
       "<table>\n",
       "    <thead>\n",
       "        <tr>\n",
       "            <th>VALUE_OLD</th>\n",
       "        </tr>\n",
       "    </thead>\n",
       "    <tbody>\n",
       "        <tr>\n",
       "            <td>&nbsp;&nbsp;&nbsp;&nbsp;&nbsp;&nbsp;&nbsp;&nbsp;850.00</td>\n",
       "        </tr>\n",
       "    </tbody>\n",
       "</table>"
      ],
      "text/plain": [
       "[('        850.00',)]"
      ]
     },
     "execution_count": 9,
     "metadata": {},
     "output_type": "execute_result"
    }
   ],
   "source": [
    "%sql select VALUE_OLD from CDPOS \\\n",
    "    where MANDANT = :MANDT and OBJECTID = :EBELN and \\\n",
    "    UDATE > (select AEDAT from EKKO where EKKO.MANDT = :MANDT and EKKO.EBELN = :EBELN) and UDATE <= :D_DATE \\\n",
    "    and FNAME = \"NETWR\" \\\n",
    "    ORDER BY UDATE, UTIME asc limit 1"
   ]
  },
  {
   "cell_type": "code",
   "execution_count": null,
   "id": "3d521e19",
   "metadata": {},
   "outputs": [],
   "source": []
  }
 ],
 "metadata": {
  "kernelspec": {
   "display_name": "Python 3 (ipykernel)",
   "language": "python",
   "name": "python3"
  },
  "language_info": {
   "codemirror_mode": {
    "name": "ipython",
    "version": 3
   },
   "file_extension": ".py",
   "mimetype": "text/x-python",
   "name": "python",
   "nbconvert_exporter": "python",
   "pygments_lexer": "ipython3",
   "version": "3.9.13"
  }
 },
 "nbformat": 4,
 "nbformat_minor": 5
}
